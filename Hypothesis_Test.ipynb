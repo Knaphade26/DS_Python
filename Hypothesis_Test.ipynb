{
  "cells": [
    {
      "cell_type": "markdown",
      "metadata": {
        "id": "view-in-github",
        "colab_type": "text"
      },
      "source": [
        "<a href=\"https://colab.research.google.com/github/Knaphade26/DS_Python/blob/main/Hypothesis_Test.ipynb\" target=\"_parent\"><img src=\"https://colab.research.google.com/assets/colab-badge.svg\" alt=\"Open In Colab\"/></a>"
      ]
    },
    {
      "cell_type": "code",
      "execution_count": null,
      "metadata": {
        "id": "JkJzRGTuL0Bp"
      },
      "outputs": [],
      "source": [
        "#import the libraries\n",
        "import pandas as pd\n",
        "import scipy \n",
        "import numpy as np\n",
        "from scipy import stats"
      ]
    },
    {
      "cell_type": "markdown",
      "metadata": {
        "id": "uyLW6tQ_L0B0"
      },
      "source": [
        "# Super Market example"
      ]
    },
    {
      "cell_type": "code",
      "execution_count": null,
      "metadata": {
        "id": "95UIRGvnL0B6"
      },
      "outputs": [],
      "source": [
        "stats.t.cdf(2.23,df=79)"
      ]
    },
    {
      "cell_type": "markdown",
      "metadata": {
        "id": "BokbnewkL0B9"
      },
      "source": [
        "# Call Center example"
      ]
    },
    {
      "cell_type": "code",
      "execution_count": null,
      "metadata": {
        "id": "cIO-_2_sL0B_"
      },
      "outputs": [],
      "source": [
        "(4-4.6)/(3/np.sqrt(50))"
      ]
    },
    {
      "cell_type": "code",
      "execution_count": null,
      "metadata": {
        "id": "X0_wxx4dL0CB"
      },
      "outputs": [],
      "source": [
        "2*stats.t.cdf(-1.41,df=49)"
      ]
    },
    {
      "cell_type": "code",
      "source": [
        "np.round(0.1648559451804547,4)"
      ],
      "metadata": {
        "id": "Kol3sfAhMU3f"
      },
      "execution_count": null,
      "outputs": []
    },
    {
      "cell_type": "code",
      "execution_count": null,
      "metadata": {
        "id": "O-6g8nulL0CD"
      },
      "outputs": [],
      "source": [
        "#p/2\n",
        "0.1649/2"
      ]
    },
    {
      "cell_type": "markdown",
      "metadata": {
        "id": "ovWxIp2CL0CG"
      },
      "source": [
        "# One tail test"
      ]
    },
    {
      "cell_type": "code",
      "execution_count": null,
      "metadata": {
        "id": "DBsDlblvL0CI"
      },
      "outputs": [],
      "source": [
        "data=pd.Series([0.593, 0.142, 0.329, 0.691, 0.231, 0.793, 0.519, 0.392, 0.418])"
      ]
    },
    {
      "cell_type": "code",
      "source": [
        "data"
      ],
      "metadata": {
        "id": "_H9QowK_xJe0"
      },
      "execution_count": null,
      "outputs": []
    },
    {
      "cell_type": "code",
      "execution_count": null,
      "metadata": {
        "id": "OMNa6S8fL0CK"
      },
      "outputs": [],
      "source": [
        "#This gives two tail test p value so divide by 2 to get final p-value\n",
        "p=scipy.stats.ttest_1samp(data,0.3)[1]\n",
        "p"
      ]
    },
    {
      "cell_type": "code",
      "source": [
        "p_value = p/2\n",
        "p_value"
      ],
      "metadata": {
        "id": "ZuQLC23ExOj3"
      },
      "execution_count": null,
      "outputs": []
    },
    {
      "cell_type": "markdown",
      "metadata": {
        "id": "GhwDWGv3L0CN"
      },
      "source": [
        "# Two Tail test"
      ]
    },
    {
      "cell_type": "code",
      "execution_count": null,
      "metadata": {
        "id": "IWJ8pBQCL0CO"
      },
      "outputs": [],
      "source": [
        "Control=pd.Series([91, 87, 99, 77, 88, 91])\n",
        "Treat =pd.Series([101, 110, 103, 93, 99, 104])  \n"
      ]
    },
    {
      "cell_type": "code",
      "execution_count": null,
      "metadata": {
        "id": "87URl624L0CQ"
      },
      "outputs": [],
      "source": [
        "stats.ttest_ind(Control,Treat)"
      ]
    },
    {
      "cell_type": "markdown",
      "metadata": {
        "id": "cUf3VcK-L0CT"
      },
      "source": [
        "# 2 Proportion Test"
      ]
    },
    {
      "cell_type": "code",
      "execution_count": null,
      "metadata": {
        "id": "r2PQKM9bL0CU"
      },
      "outputs": [],
      "source": [
        "import numpy as np"
      ]
    },
    {
      "cell_type": "code",
      "execution_count": null,
      "metadata": {
        "id": "rcAg4WcBL0CV"
      },
      "outputs": [],
      "source": [
        "#Data:\n",
        "\n",
        "n1 = 247\n",
        "p1 = .37\n",
        "\n",
        "n2 = 308\n",
        "p2 = .39"
      ]
    },
    {
      "cell_type": "code",
      "execution_count": null,
      "metadata": {
        "id": "9-NDY39xL0CW"
      },
      "outputs": [],
      "source": [
        "population1 = np.random.binomial(1, p1, n1)\n",
        "population2 = np.random.binomial(1, p2, n2)"
      ]
    },
    {
      "cell_type": "code",
      "source": [
        "population1"
      ],
      "metadata": {
        "id": "co6ZrUqS3X0H"
      },
      "execution_count": null,
      "outputs": []
    },
    {
      "cell_type": "code",
      "execution_count": null,
      "metadata": {
        "id": "qaqNro5IL0CX"
      },
      "outputs": [],
      "source": [
        "population1.mean()"
      ]
    },
    {
      "cell_type": "code",
      "execution_count": null,
      "metadata": {
        "id": "tdYMbBrDL0CY"
      },
      "outputs": [],
      "source": [
        "population2"
      ]
    },
    {
      "cell_type": "code",
      "execution_count": null,
      "metadata": {
        "id": "xYwmcdRcL0Ca"
      },
      "outputs": [],
      "source": [
        "import statsmodels.api as sm\n",
        "sm.stats.ttest_ind(population1, population2)"
      ]
    },
    {
      "cell_type": "code",
      "execution_count": null,
      "metadata": {
        "id": "1eme29mlL0Cb"
      },
      "outputs": [],
      "source": [
        ""
      ]
    }
  ],
  "metadata": {
    "kernelspec": {
      "display_name": "Python 3",
      "language": "python",
      "name": "python3"
    },
    "language_info": {
      "codemirror_mode": {
        "name": "ipython",
        "version": 3
      },
      "file_extension": ".py",
      "mimetype": "text/x-python",
      "name": "python",
      "nbconvert_exporter": "python",
      "pygments_lexer": "ipython3",
      "version": "3.7.4"
    },
    "colab": {
      "name": "Hypothesis Test.ipynb",
      "provenance": [],
      "include_colab_link": true
    }
  },
  "nbformat": 4,
  "nbformat_minor": 0
}