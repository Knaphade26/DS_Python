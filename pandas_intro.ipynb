{
  "nbformat": 4,
  "nbformat_minor": 0,
  "metadata": {
    "colab": {
      "name": "pandas_intro.ipynb",
      "provenance": [],
      "collapsed_sections": [],
      "authorship_tag": "ABX9TyOLBgvcBgJKma34NpoCpL2Y",
      "include_colab_link": true
    },
    "kernelspec": {
      "name": "python3",
      "display_name": "Python 3"
    },
    "language_info": {
      "name": "python"
    }
  },
  "cells": [
    {
      "cell_type": "markdown",
      "metadata": {
        "id": "view-in-github",
        "colab_type": "text"
      },
      "source": [
        "<a href=\"https://colab.research.google.com/github/Knaphade26/DS_Python/blob/main/pandas_intro.ipynb\" target=\"_parent\"><img src=\"https://colab.research.google.com/assets/colab-badge.svg\" alt=\"Open In Colab\"/></a>"
      ]
    },
    {
      "cell_type": "code",
      "metadata": {
        "id": "A3fv7yXEij4h"
      },
      "source": [
        "# Import Python Libraries\n",
        "import numpy as np\n",
        "import pandas as pd"
      ],
      "execution_count": null,
      "outputs": []
    },
    {
      "cell_type": "code",
      "metadata": {
        "id": "mPJLyuAujMOe"
      },
      "source": [
        "#Read csv file\n",
        "df = pd.read_csv(\"/content/Salaries.csv\")"
      ],
      "execution_count": null,
      "outputs": []
    },
    {
      "cell_type": "code",
      "metadata": {
        "id": "PnSyNu6wjMF0"
      },
      "source": [
        "df"
      ],
      "execution_count": null,
      "outputs": []
    },
    {
      "cell_type": "code",
      "metadata": {
        "id": "tBgZUdY_mP2x"
      },
      "source": [
        "df.head()"
      ],
      "execution_count": null,
      "outputs": []
    },
    {
      "cell_type": "code",
      "metadata": {
        "id": "nGxUcdEqoPt1"
      },
      "source": [
        "df.head(10)"
      ],
      "execution_count": null,
      "outputs": []
    },
    {
      "cell_type": "code",
      "metadata": {
        "id": "0qaUh0qnpoQd"
      },
      "source": [
        "df.head(20)"
      ],
      "execution_count": null,
      "outputs": []
    },
    {
      "cell_type": "code",
      "metadata": {
        "id": "o6XUimSOprcu"
      },
      "source": [
        "df.head(50)"
      ],
      "execution_count": null,
      "outputs": []
    },
    {
      "cell_type": "markdown",
      "metadata": {
        "id": "WlQSyF8XsqZM"
      },
      "source": [
        "# Data frame attributes"
      ]
    },
    {
      "cell_type": "code",
      "metadata": {
        "id": "tZN3lssZptiR"
      },
      "source": [
        "df.dtypes"
      ],
      "execution_count": null,
      "outputs": []
    },
    {
      "cell_type": "code",
      "metadata": {
        "id": "ZVvct37aq2HZ"
      },
      "source": [
        "df.columns"
      ],
      "execution_count": null,
      "outputs": []
    },
    {
      "cell_type": "code",
      "metadata": {
        "id": "DR_REqGYsINa"
      },
      "source": [
        "df.axes"
      ],
      "execution_count": null,
      "outputs": []
    },
    {
      "cell_type": "code",
      "metadata": {
        "id": "QrwMO6kmsclV"
      },
      "source": [
        "df.values"
      ],
      "execution_count": null,
      "outputs": []
    },
    {
      "cell_type": "code",
      "metadata": {
        "id": "X_cE07u6s6ML"
      },
      "source": [
        "df.shape"
      ],
      "execution_count": null,
      "outputs": []
    },
    {
      "cell_type": "code",
      "metadata": {
        "id": "nC6xahrYs_Fn"
      },
      "source": [
        "df.ndim"
      ],
      "execution_count": null,
      "outputs": []
    },
    {
      "cell_type": "code",
      "metadata": {
        "id": "OgvHsRQav6q2"
      },
      "source": [
        "# It gives rows\n",
        "df.shape[0]"
      ],
      "execution_count": null,
      "outputs": []
    },
    {
      "cell_type": "code",
      "metadata": {
        "id": "BNn3gdlswCdl"
      },
      "source": [
        "# It gives rows\n",
        "df.shape[1]"
      ],
      "execution_count": null,
      "outputs": []
    },
    {
      "cell_type": "code",
      "metadata": {
        "id": "C0kmc07Yxz1X"
      },
      "source": [
        "print(df.columns)"
      ],
      "execution_count": null,
      "outputs": []
    },
    {
      "cell_type": "code",
      "metadata": {
        "id": "gyYKRSvpwEnq"
      },
      "source": [
        "dir(df)"
      ],
      "execution_count": null,
      "outputs": []
    },
    {
      "cell_type": "code",
      "metadata": {
        "id": "HdOsxlQIxDnz"
      },
      "source": [
        "df.describe()"
      ],
      "execution_count": null,
      "outputs": []
    },
    {
      "cell_type": "code",
      "metadata": {
        "id": "2-jxOJLSx6oN"
      },
      "source": [
        "df.mean()"
      ],
      "execution_count": null,
      "outputs": []
    },
    {
      "cell_type": "code",
      "metadata": {
        "id": "A3Dig2ckyAcp"
      },
      "source": [
        "df.median()"
      ],
      "execution_count": null,
      "outputs": []
    },
    {
      "cell_type": "code",
      "metadata": {
        "id": "4GEJHLlAyEdm"
      },
      "source": [
        "df.count()"
      ],
      "execution_count": null,
      "outputs": []
    },
    {
      "cell_type": "code",
      "metadata": {
        "id": "Wxx24nyjyGLQ"
      },
      "source": [
        "df.std()"
      ],
      "execution_count": null,
      "outputs": []
    },
    {
      "cell_type": "code",
      "metadata": {
        "id": "FBRgiYf6ybIE"
      },
      "source": [
        "# Mean Of Top 50 Rows\n",
        "df_50rows = df.head(50)\n",
        "df_50rows.mean()"
      ],
      "execution_count": null,
      "outputs": []
    },
    {
      "cell_type": "code",
      "metadata": {
        "id": "CjL_ruQQ0Qhn"
      },
      "source": [
        "df['salary']"
      ],
      "execution_count": null,
      "outputs": []
    },
    {
      "cell_type": "code",
      "metadata": {
        "id": "1gWoQgT92cw-"
      },
      "source": [
        "df.salary"
      ],
      "execution_count": null,
      "outputs": []
    },
    {
      "cell_type": "code",
      "metadata": {
        "id": "9QAOBDzh2gPW"
      },
      "source": [
        "df[['salary']]"
      ],
      "execution_count": null,
      "outputs": []
    },
    {
      "cell_type": "code",
      "metadata": {
        "id": "088StYqd2lbF"
      },
      "source": [
        "#df['phd'].describe()\n",
        "df.phd.describe()"
      ],
      "execution_count": null,
      "outputs": []
    },
    {
      "cell_type": "code",
      "metadata": {
        "id": "azi5vBvM3pN6"
      },
      "source": [
        "df['phd'].count()\n",
        "#df.phd.count()"
      ],
      "execution_count": null,
      "outputs": []
    },
    {
      "cell_type": "code",
      "metadata": {
        "id": "3SeVm2e-35Kv"
      },
      "source": [
        "#df['phd'].mean()\n",
        "df.phd.mean()"
      ],
      "execution_count": null,
      "outputs": []
    },
    {
      "cell_type": "markdown",
      "metadata": {
        "id": "JtuBqqx153hN"
      },
      "source": [
        "# **Group by Method**"
      ]
    },
    {
      "cell_type": "code",
      "metadata": {
        "id": "uxMmZdi65-2G"
      },
      "source": [
        "group = df.groupby(['rank'])"
      ],
      "execution_count": null,
      "outputs": []
    },
    {
      "cell_type": "code",
      "metadata": {
        "id": "-dk5fvk06TVP"
      },
      "source": [
        "group.mean()"
      ],
      "execution_count": null,
      "outputs": []
    },
    {
      "cell_type": "code",
      "metadata": {
        "id": "b-PpzlKA6W9w"
      },
      "source": [
        "df.groupby('rank')[['salary']].mean()"
      ],
      "execution_count": null,
      "outputs": []
    },
    {
      "cell_type": "code",
      "metadata": {
        "id": "_1IB7AJn6qUL"
      },
      "source": [
        "# Filter in Python\n",
        "# print the rows where the salary is more than 120k\n",
        "df['salary']"
      ],
      "execution_count": null,
      "outputs": []
    },
    {
      "cell_type": "code",
      "metadata": {
        "id": "ZdPQS6ar7z_c"
      },
      "source": [
        "#df[['salary']]>120000\n",
        "df[df['salary']>120000]\n"
      ],
      "execution_count": null,
      "outputs": []
    },
    {
      "cell_type": "code",
      "metadata": {
        "id": "Rk59aBPt8EJ8"
      },
      "source": [
        "df['discipline']=='B'"
      ],
      "execution_count": null,
      "outputs": []
    },
    {
      "cell_type": "code",
      "metadata": {
        "id": "U6u9OIoz8pKS"
      },
      "source": [
        "df[df['discipline']=='B']"
      ],
      "execution_count": null,
      "outputs": []
    },
    {
      "cell_type": "code",
      "metadata": {
        "id": "S3GJYXZ-8xtw"
      },
      "source": [
        "df[(df['rank']==\"Prof\") & (df['discipline']==\"A\")]"
      ],
      "execution_count": null,
      "outputs": []
    },
    {
      "cell_type": "code",
      "metadata": {
        "id": "2gbYUJXu9ymu"
      },
      "source": [
        "df.head(5)"
      ],
      "execution_count": null,
      "outputs": []
    },
    {
      "cell_type": "code",
      "metadata": {
        "id": "xTgyHT2AB-lg"
      },
      "source": [
        "df.iloc[0:4]"
      ],
      "execution_count": null,
      "outputs": []
    },
    {
      "cell_type": "code",
      "metadata": {
        "id": "u-3rY4eCCL0U"
      },
      "source": [
        "df.iloc[2:7]"
      ],
      "execution_count": null,
      "outputs": []
    },
    {
      "cell_type": "code",
      "metadata": {
        "id": "VjNy3BkGCbr7"
      },
      "source": [
        "df.iloc[:,-3:]\n",
        "#df.iloc[:,3:]"
      ],
      "execution_count": null,
      "outputs": []
    },
    {
      "cell_type": "code",
      "metadata": {
        "id": "Hnyemn16CkBQ"
      },
      "source": [
        "df.iloc[1:6,0:3]"
      ],
      "execution_count": null,
      "outputs": []
    },
    {
      "cell_type": "code",
      "metadata": {
        "id": "NorUlj4ZC1i4"
      },
      "source": [
        "# Aggregation\n",
        "df[[\"phd\",\"salary\"]].agg(['min','mean','max','std'])"
      ],
      "execution_count": null,
      "outputs": []
    },
    {
      "cell_type": "code",
      "metadata": {
        "id": "i5YXBDA9GC9O"
      },
      "source": [
        ""
      ],
      "execution_count": null,
      "outputs": []
    }
  ]
}