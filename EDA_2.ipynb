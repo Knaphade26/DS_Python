{
  "cells": [
    {
      "cell_type": "markdown",
      "metadata": {
        "id": "-B0G6qrCieCl"
      },
      "source": [
        "### Label Encoder"
      ]
    },
    {
      "cell_type": "code",
      "execution_count": null,
      "metadata": {
        "id": "DW38OOqEieCn"
      },
      "outputs": [],
      "source": [
        "from sklearn.preprocessing import LabelEncoder\n",
        "import pandas as pd"
      ]
    },
    {
      "cell_type": "code",
      "execution_count": null,
      "metadata": {
        "id": "xPrpGQ4XieCo"
      },
      "outputs": [],
      "source": [
        "data =pd.read_csv(\"iris.csv\",index_col=0)"
      ]
    },
    {
      "cell_type": "code",
      "execution_count": null,
      "metadata": {
        "id": "5nWOY-DOieCo"
      },
      "outputs": [],
      "source": [
        "data.head()"
      ]
    },
    {
      "cell_type": "code",
      "execution_count": null,
      "metadata": {
        "id": "wFWMmYdTieCo"
      },
      "outputs": [],
      "source": [
        "#Changes does not effect the \"data\" dataframe\n",
        "data1=data.copy()"
      ]
    },
    {
      "cell_type": "code",
      "execution_count": null,
      "metadata": {
        "id": "WElzyCuEieCp"
      },
      "outputs": [],
      "source": [
        "labelencoder = LabelEncoder()\n",
        "data1.iloc[:, -1] = labelencoder.fit_transform(data1.iloc[:,-1])"
      ]
    },
    {
      "cell_type": "code",
      "execution_count": null,
      "metadata": {
        "id": "cdODmqtHieCp"
      },
      "outputs": [],
      "source": [
        "data1"
      ]
    },
    {
      "cell_type": "markdown",
      "metadata": {
        "id": "VzBn56DuieCp"
      },
      "source": [
        "### One Hot Encoder"
      ]
    },
    {
      "cell_type": "markdown",
      "metadata": {
        "id": "4L0Ih0bJieCq"
      },
      "source": [
        "#### Using sklearn"
      ]
    },
    {
      "cell_type": "code",
      "execution_count": null,
      "metadata": {
        "id": "Gmxkc7qVieCq"
      },
      "outputs": [],
      "source": [
        "from sklearn.preprocessing import OneHotEncoder"
      ]
    },
    {
      "cell_type": "code",
      "execution_count": null,
      "metadata": {
        "id": "dExg_HuqieCr"
      },
      "outputs": [],
      "source": [
        "data2=pd.read_csv(\"iris.csv\",index_col=0)"
      ]
    },
    {
      "cell_type": "code",
      "execution_count": null,
      "metadata": {
        "id": "pLcxryRFieCr"
      },
      "outputs": [],
      "source": [
        "data2"
      ]
    },
    {
      "cell_type": "code",
      "execution_count": null,
      "metadata": {
        "id": "sH8p6F32ieCr"
      },
      "outputs": [],
      "source": [
        "# creating instance of one-hot-encoder\n",
        "enc = OneHotEncoder(handle_unknown='ignore')"
      ]
    },
    {
      "cell_type": "code",
      "execution_count": null,
      "metadata": {
        "id": "aQyY5dPVieCr"
      },
      "outputs": [],
      "source": [
        "# passing bridge-types-cat column (label encoded values of bridge_types)\n",
        "enc_df = pd.DataFrame(enc.fit_transform(data2[['Species']]).toarray())\n"
      ]
    },
    {
      "cell_type": "code",
      "execution_count": null,
      "metadata": {
        "id": "4vkHyb4XieCs"
      },
      "outputs": [],
      "source": [
        "enc_df"
      ]
    },
    {
      "cell_type": "code",
      "execution_count": null,
      "metadata": {
        "id": "mZoZSsEzieCs"
      },
      "outputs": [],
      "source": [
        "# merge with main df \n",
        "data_final = data2.iloc[:,0:4].join(enc_df)\n",
        "data_final"
      ]
    },
    {
      "cell_type": "markdown",
      "metadata": {
        "id": "FksZigxaieCs"
      },
      "source": [
        "#### Using Pandas"
      ]
    },
    {
      "cell_type": "code",
      "execution_count": null,
      "metadata": {
        "id": "3TYyGUCGieCs"
      },
      "outputs": [],
      "source": [
        "import pandas as pd"
      ]
    },
    {
      "cell_type": "code",
      "execution_count": null,
      "metadata": {
        "id": "TbgPQoB7ieCs"
      },
      "outputs": [],
      "source": [
        "data3 =pd.read_csv(\"iris.csv\",index_col=0)"
      ]
    },
    {
      "cell_type": "code",
      "execution_count": null,
      "metadata": {
        "id": "uhTrqhIKieCs"
      },
      "outputs": [],
      "source": [
        "data_encoded=pd.get_dummies(data3)"
      ]
    },
    {
      "cell_type": "code",
      "execution_count": null,
      "metadata": {
        "id": "Cc99xvz2ieCt"
      },
      "outputs": [],
      "source": [
        "data_encoded"
      ]
    },
    {
      "cell_type": "markdown",
      "metadata": {
        "id": "xSbv1xcNieCt"
      },
      "source": [
        "#### IsolationForest"
      ]
    },
    {
      "cell_type": "code",
      "execution_count": null,
      "metadata": {
        "id": "32P4smZPieCt"
      },
      "outputs": [],
      "source": [
        "from sklearn.ensemble import IsolationForest"
      ]
    },
    {
      "cell_type": "code",
      "execution_count": null,
      "metadata": {
        "id": "kIE0k7hUieCt"
      },
      "outputs": [],
      "source": [
        "data =pd.read_csv(\"iris.csv\",index_col=0)\n",
        "data_encoded=pd.get_dummies(data)"
      ]
    },
    {
      "cell_type": "code",
      "execution_count": null,
      "metadata": {
        "id": "7r4cSjj6ieCt"
      },
      "outputs": [],
      "source": [
        "# training the model\n",
        "clf = IsolationForest(random_state=10,contamination=.01)\n",
        "clf.fit(data_encoded)"
      ]
    },
    {
      "cell_type": "code",
      "execution_count": null,
      "metadata": {
        "id": "I4-iGJclieCt"
      },
      "outputs": [],
      "source": [
        "# predictions\n",
        "y_pred_outliers = clf.predict(data_encoded)"
      ]
    },
    {
      "cell_type": "code",
      "execution_count": null,
      "metadata": {
        "id": "0Rf_90nnieCt"
      },
      "outputs": [],
      "source": [
        "#-1 for outliers and 1 for inliers.\n",
        "y_pred_outliers"
      ]
    },
    {
      "cell_type": "code",
      "execution_count": null,
      "metadata": {
        "id": "JbZVt0QVieCt"
      },
      "outputs": [],
      "source": [
        "data_encoded"
      ]
    },
    {
      "cell_type": "code",
      "execution_count": null,
      "metadata": {
        "id": "EBwOiiZiieCt"
      },
      "outputs": [],
      "source": [
        "## Let us add a new data point which is outlier\n",
        "data_encoded.loc[150]=[20,40,30,50,1,0,0]"
      ]
    },
    {
      "cell_type": "code",
      "execution_count": null,
      "metadata": {
        "id": "uSnvNF7uieCu"
      },
      "outputs": [],
      "source": [
        "data_encoded"
      ]
    },
    {
      "cell_type": "code",
      "execution_count": null,
      "metadata": {
        "id": "U0VNwtWAieCu"
      },
      "outputs": [],
      "source": [
        "# training the model\n",
        "clf = IsolationForest(random_state=10,contamination=.01)\n",
        "clf.fit(data_encoded)\n",
        "# predictions\n",
        "y_pred_outliers = clf.predict(data_encoded)\n",
        "y_pred_outliers"
      ]
    },
    {
      "cell_type": "code",
      "execution_count": null,
      "metadata": {
        "id": "LnYt9aLlieCu"
      },
      "outputs": [],
      "source": [
        "data_encoded['scores']=clf.decision_function(data_encoded)"
      ]
    },
    {
      "cell_type": "code",
      "execution_count": null,
      "metadata": {
        "id": "9Y0b4DOIieCu"
      },
      "outputs": [],
      "source": [
        "data_encoded['anomaly']=clf.predict(data_encoded.iloc[:,0:7])"
      ]
    },
    {
      "cell_type": "code",
      "execution_count": null,
      "metadata": {
        "id": "pLkiTlXnieCu"
      },
      "outputs": [],
      "source": [
        "data_encoded"
      ]
    },
    {
      "cell_type": "code",
      "execution_count": null,
      "metadata": {
        "id": "ojiShjn1ieCu"
      },
      "outputs": [],
      "source": [
        "#Print the outlier data points\n",
        "data_encoded[data_encoded['anomaly']==-1]"
      ]
    },
    {
      "cell_type": "markdown",
      "metadata": {
        "id": "MO5_G_8zieCu"
      },
      "source": [
        "### PPS score"
      ]
    },
    {
      "cell_type": "code",
      "execution_count": null,
      "metadata": {
        "id": "aUtkyphMieCu"
      },
      "outputs": [],
      "source": [
        "#install the package\n",
        "!pip install ppscore"
      ]
    },
    {
      "cell_type": "code",
      "execution_count": null,
      "metadata": {
        "id": "uo8bfzmlieCu"
      },
      "outputs": [],
      "source": [
        "import ppscore as pps"
      ]
    },
    {
      "cell_type": "code",
      "execution_count": null,
      "metadata": {
        "id": "yQJ77NanieCu"
      },
      "outputs": [],
      "source": [
        "#pps.score(df, \"feature_column\", \"target_column\")  syntax\n",
        "pps.score(data, \"Sepal.Length\", \"Petal.Length\")"
      ]
    },
    {
      "cell_type": "code",
      "execution_count": null,
      "metadata": {
        "id": "96kw9wJ6ieCu"
      },
      "outputs": [],
      "source": [
        "#calculate the whole PPS matrix\n",
        "pps.matrix(data)"
      ]
    },
    {
      "cell_type": "code",
      "source": [
        ""
      ],
      "metadata": {
        "id": "CZDYc_5Lp-pQ"
      },
      "execution_count": null,
      "outputs": []
    }
  ],
  "metadata": {
    "kernelspec": {
      "display_name": "Python 3",
      "language": "python",
      "name": "python3"
    },
    "language_info": {
      "codemirror_mode": {
        "name": "ipython",
        "version": 3
      },
      "file_extension": ".py",
      "mimetype": "text/x-python",
      "name": "python",
      "nbconvert_exporter": "python",
      "pygments_lexer": "ipython3",
      "version": "3.7.4"
    },
    "colab": {
      "name": "EDA_2.ipynb",
      "provenance": [],
      "collapsed_sections": []
    }
  },
  "nbformat": 4,
  "nbformat_minor": 0
}