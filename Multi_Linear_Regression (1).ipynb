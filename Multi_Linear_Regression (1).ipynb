{
  "cells": [
    {
      "cell_type": "code",
      "execution_count": null,
      "metadata": {
        "id": "ii7RdbMJeMri"
      },
      "outputs": [],
      "source": [
        "import pandas as pd\n",
        "import matplotlib.pyplot as plt\n",
        "import seaborn as sns\n",
        "from statsmodels.graphics.regressionplots import influence_plot\n",
        "import statsmodels.formula.api as smf\n",
        "import numpy as np"
      ]
    },
    {
      "cell_type": "code",
      "execution_count": null,
      "metadata": {
        "id": "zOVTNbcteMrn"
      },
      "outputs": [],
      "source": [
        "#Read the data\n",
        "cars = pd.read_csv(\"Cars.csv\")\n",
        "cars.head()"
      ]
    },
    {
      "cell_type": "code",
      "execution_count": null,
      "metadata": {
        "id": "7ZXQkObSeMrn"
      },
      "outputs": [],
      "source": [
        "cars.info()"
      ]
    },
    {
      "cell_type": "code",
      "execution_count": null,
      "metadata": {
        "id": "Q3HgSTD3eMro"
      },
      "outputs": [],
      "source": [
        "#check for missing values\n",
        "cars.isna().sum()"
      ]
    },
    {
      "cell_type": "markdown",
      "metadata": {
        "id": "cAbUUCNpeMrp"
      },
      "source": [
        "# Correlation Matrix"
      ]
    },
    {
      "cell_type": "code",
      "execution_count": null,
      "metadata": {
        "id": "EVTLlwq8eMrq"
      },
      "outputs": [],
      "source": [
        "cars.corr()"
      ]
    },
    {
      "cell_type": "markdown",
      "metadata": {
        "id": "6Lw_PfokeMrr"
      },
      "source": [
        "# Scatterplot between variables along with histograms"
      ]
    },
    {
      "cell_type": "code",
      "execution_count": null,
      "metadata": {
        "id": "_Yfz5ljieMrs"
      },
      "outputs": [],
      "source": [
        "#Format the plot background and scatter plots for all the variables\n",
        "sns.set_style(style='darkgrid')\n",
        "sns.pairplot(cars)"
      ]
    },
    {
      "cell_type": "markdown",
      "metadata": {
        "id": "IHkqPYBceMrt"
      },
      "source": [
        "# Preparing a model"
      ]
    },
    {
      "cell_type": "code",
      "execution_count": null,
      "metadata": {
        "id": "RvLSpYZZeMru"
      },
      "outputs": [],
      "source": [
        "#Build model\n",
        "import statsmodels.formula.api as smf \n",
        "model = smf.ols('MPG~WT+VOL+SP+HP',data=cars).fit()"
      ]
    },
    {
      "cell_type": "code",
      "execution_count": null,
      "metadata": {
        "id": "nZ4kwECLeMrv"
      },
      "outputs": [],
      "source": [
        "#Coefficients\n",
        "model.params"
      ]
    },
    {
      "cell_type": "code",
      "execution_count": null,
      "metadata": {
        "id": "sqa7u2SceMrv"
      },
      "outputs": [],
      "source": [
        "#t and p-Values\n",
        "print(model.tvalues, '\\n', model.pvalues)"
      ]
    },
    {
      "cell_type": "code",
      "execution_count": null,
      "metadata": {
        "id": "ogRq_C7zeMrv"
      },
      "outputs": [],
      "source": [
        "#R squared values\n",
        "(model.rsquared,model.rsquared_adj)"
      ]
    },
    {
      "cell_type": "markdown",
      "metadata": {
        "id": "tFx34ngceMrw"
      },
      "source": [
        "# Simple Linear Regression Models"
      ]
    },
    {
      "cell_type": "code",
      "execution_count": null,
      "metadata": {
        "id": "KHxoDQfQeMrw"
      },
      "outputs": [],
      "source": [
        "ml_v=smf.ols('MPG~VOL',data = cars).fit()  \n",
        "#t and p-Values\n",
        "print(ml_v.tvalues, '\\n', ml_v.pvalues)  "
      ]
    },
    {
      "cell_type": "code",
      "execution_count": null,
      "metadata": {
        "scrolled": false,
        "id": "8JPqP_ZVeMrw"
      },
      "outputs": [],
      "source": [
        "ml_w=smf.ols('MPG~WT',data = cars).fit()  \n",
        "print(ml_w.tvalues, '\\n', ml_w.pvalues)  "
      ]
    },
    {
      "cell_type": "code",
      "execution_count": null,
      "metadata": {
        "scrolled": true,
        "id": "oqqF2DSMeMrx"
      },
      "outputs": [],
      "source": [
        "ml_wv=smf.ols('MPG~WT+VOL',data = cars).fit()  \n",
        "print(ml_wv.tvalues, '\\n', ml_wv.pvalues)  "
      ]
    }
  ],
  "metadata": {
    "kernelspec": {
      "display_name": "Python 3",
      "language": "python",
      "name": "python3"
    },
    "language_info": {
      "codemirror_mode": {
        "name": "ipython",
        "version": 3
      },
      "file_extension": ".py",
      "mimetype": "text/x-python",
      "name": "python",
      "nbconvert_exporter": "python",
      "pygments_lexer": "ipython3",
      "version": "3.7.4"
    },
    "colab": {
      "name": "Multi Linear Regression.ipynb",
      "provenance": [],
      "collapsed_sections": []
    }
  },
  "nbformat": 4,
  "nbformat_minor": 0
}